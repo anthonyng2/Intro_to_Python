{
 "cells": [
  {
   "cell_type": "markdown",
   "metadata": {},
   "source": [
    "# Python Essentials\n",
    "This notebook along with the workshop only provides the bare essentials to get you started in programming, finance and algorithmic trading. It does not in anyway replace proper computer science degree that develop much broader cognitive skills. In fact a good place to start learning computer science is [code](https://code.org/). \n",
    "The training below is adopted from the Python excellent [online reference.](https://docs.python.org/2/tutorial/controlflow.html) \n",
    "\n",
    "## Learning Outcomes\n",
    "\n",
    "At the end of the workshop, students would have gained an appreciation and hand-ons practical experience on the following topics:\n",
    "* Python Environment\n",
    "  * Interactive and immediate feedback\n",
    "  * Variable Names\n",
    "  * Operators\n",
    "  * `Print` statement\n",
    "  * modules and dot notation\n",
    "  * Importing library\n",
    "  * Variables and pass-by-reference\n",
    "* Data Types in Python\n",
    "  * Numeric\n",
    "  * Floating Point\n",
    "  * Integers\n",
    "  * Boolean\n",
    "  * Strings\n",
    "  * Lists\n",
    "    * range vs xrange\n",
    "    * Slicing\n",
    "    * List, set and dict comprehension\n",
    "  * Tuples\n",
    "  * Dictionary\n",
    "  * Dates and times\n",
    "  * Sets\n",
    "* Basic Introduction to OOP\n",
    "  * objects\n",
    "  * class\n",
    "  * methods\n",
    "* Basic Introduction to Function\n",
    "  * Name scope\n",
    "* Where to from here"
   ]
  },
  {
   "cell_type": "markdown",
   "metadata": {},
   "source": [
    "# Python Environment"
   ]
  },
  {
   "cell_type": "markdown",
   "metadata": {},
   "source": [
    "## Interactive and Immediate Feedback"
   ]
  },
  {
   "cell_type": "code",
   "execution_count": null,
   "metadata": {
    "collapsed": false
   },
   "outputs": [],
   "source": [
    "3 + 4   # Receives output immediately"
   ]
  },
  {
   "cell_type": "markdown",
   "metadata": {},
   "source": [
    "## Variable Names\n",
    "Variable names can only contain the following: \n",
    "* Numbers. \n",
    "* Letters (Python is case sensitive). \n",
    "* Underscores. "
   ]
  },
  {
   "cell_type": "code",
   "execution_count": null,
   "metadata": {
    "collapsed": false
   },
   "outputs": [],
   "source": [
    "a = 2\n",
    "a"
   ]
  },
  {
   "cell_type": "code",
   "execution_count": null,
   "metadata": {
    "collapsed": false
   },
   "outputs": [],
   "source": [
    "love2eat = 50\n",
    "print a + love2eat"
   ]
  },
  {
   "cell_type": "code",
   "execution_count": null,
   "metadata": {
    "collapsed": false
   },
   "outputs": [],
   "source": [
    "first_name = \"John\"\n",
    "first_name"
   ]
  },
  {
   "cell_type": "markdown",
   "metadata": {},
   "source": [
    "## Operators\n",
    "\n",
    "|Operator  | Description | Operator  | Description |\n",
    "|---|---|---|---|\n",
    "| + | Addition | - | Substration |\n",
    "| * | Multiplication | \\*\\* | Exponent |\n",
    "| / | Division | // | Floor division |\n",
    "| % | Modulus | < | Smaller than |\n",
    "| > | Greater than | <= | Small than and equal to |\n",
    "| >= | Greater than and equal to | == | Equal |\n",
    "| != | Not equal to | <> | Not equal to | \n",
    "\n",
    "What about these? `<<  >>  &  |  ^  ~` "
   ]
  },
  {
   "cell_type": "code",
   "execution_count": null,
   "metadata": {
    "collapsed": false
   },
   "outputs": [],
   "source": [
    "3 < 2"
   ]
  },
  {
   "cell_type": "code",
   "execution_count": null,
   "metadata": {
    "collapsed": false
   },
   "outputs": [],
   "source": [
    "3.0 > 44"
   ]
  },
  {
   "cell_type": "code",
   "execution_count": null,
   "metadata": {
    "collapsed": false
   },
   "outputs": [],
   "source": [
    "56 == 75"
   ]
  },
  {
   "cell_type": "code",
   "execution_count": null,
   "metadata": {
    "collapsed": false
   },
   "outputs": [],
   "source": [
    "223 != 33"
   ]
  },
  {
   "cell_type": "markdown",
   "metadata": {},
   "source": [
    "## Print Statement"
   ]
  },
  {
   "cell_type": "code",
   "execution_count": null,
   "metadata": {
    "collapsed": false
   },
   "outputs": [],
   "source": [
    "a = 5\n",
    "print a"
   ]
  },
  {
   "cell_type": "code",
   "execution_count": null,
   "metadata": {
    "collapsed": false
   },
   "outputs": [],
   "source": [
    "print \"Hello world\""
   ]
  },
  {
   "cell_type": "markdown",
   "metadata": {},
   "source": [
    "## Modules and Dot Notation\n",
    "\n",
    "Modules is an object oriented programming term for a collection of functions. The dot notation allows you to access the in-built function in the module. \n",
    "\n",
    "`obj.attribute_name`\n",
    "\n",
    "Example:"
   ]
  },
  {
   "cell_type": "code",
   "execution_count": null,
   "metadata": {
    "collapsed": true
   },
   "outputs": [],
   "source": [
    "import numpy as np    # Importing the numpy module"
   ]
  },
  {
   "cell_type": "code",
   "execution_count": null,
   "metadata": {
    "collapsed": false
   },
   "outputs": [],
   "source": [
    "np.mean([3, 5, 4])    # Access the mean function within the numpy module"
   ]
  },
  {
   "cell_type": "markdown",
   "metadata": {},
   "source": [
    "You can either further use `dir(np)` or  `np.<Tab>` to obtain a list of attributes associated with the object.\n",
    "\n",
    "We will see more of this as we proceed with the workshop."
   ]
  },
  {
   "cell_type": "markdown",
   "metadata": {},
   "source": [
    "## Imports\n",
    "\n",
    "Python contains a lot of in-built functions. However, from time to time, you will need to use external libraries to solve specific problems. With `imports`, you can import or access other libraries or functions and methods stored in a `.py` file.\n",
    "\n",
    "In fact, we have already imported a library earlier called [NumPy](http://www.numpy.org/) "
   ]
  },
  {
   "cell_type": "markdown",
   "metadata": {},
   "source": [
    "## Variables and pass-by-reference"
   ]
  },
  {
   "cell_type": "code",
   "execution_count": null,
   "metadata": {
    "collapsed": true
   },
   "outputs": [],
   "source": [
    "x = 9         \n",
    "# we are assigning / binding the list to the variable x. We are creating a reference to the list not copy"
   ]
  },
  {
   "cell_type": "code",
   "execution_count": null,
   "metadata": {
    "collapsed": true
   },
   "outputs": [],
   "source": [
    "y = x"
   ]
  },
  {
   "cell_type": "markdown",
   "metadata": {},
   "source": [
    "In this case, the data is not copied to y. Instead, both x and y both point to the same object. This is critical for memory management. "
   ]
  },
  {
   "cell_type": "code",
   "execution_count": null,
   "metadata": {
    "collapsed": false
   },
   "outputs": [],
   "source": [
    "y"
   ]
  },
  {
   "cell_type": "code",
   "execution_count": null,
   "metadata": {
    "collapsed": false,
    "scrolled": true
   },
   "outputs": [],
   "source": [
    "y = 3"
   ]
  },
  {
   "cell_type": "code",
   "execution_count": null,
   "metadata": {
    "collapsed": false
   },
   "outputs": [],
   "source": [
    "y"
   ]
  },
  {
   "cell_type": "code",
   "execution_count": null,
   "metadata": {
    "collapsed": false
   },
   "outputs": [],
   "source": [
    "x"
   ]
  },
  {
   "cell_type": "markdown",
   "metadata": {},
   "source": [
    "# Data Types in Python\n",
    "## Numeric \n",
    "## Floating Point (float)\n",
    "For floating data type, you must include a . (period, dot)"
   ]
  },
  {
   "cell_type": "code",
   "execution_count": null,
   "metadata": {
    "collapsed": false
   },
   "outputs": [],
   "source": [
    "stock_price = 1                         # Here stock_price is our variable.\n",
    "type(stock_price)"
   ]
  },
  {
   "cell_type": "code",
   "execution_count": null,
   "metadata": {
    "collapsed": false
   },
   "outputs": [],
   "source": [
    "stock_price = 51.0\n",
    "type(stock_price)"
   ]
  },
  {
   "cell_type": "code",
   "execution_count": null,
   "metadata": {
    "collapsed": false
   },
   "outputs": [],
   "source": [
    "stock_price = float(1)\n",
    "type(stock_price)"
   ]
  },
  {
   "cell_type": "code",
   "execution_count": null,
   "metadata": {
    "collapsed": false
   },
   "outputs": [],
   "source": [
    "isinstance(stock_price, float)   # testing to see if a is a float"
   ]
  },
  {
   "cell_type": "markdown",
   "metadata": {},
   "source": [
    "## Integers (int and long)\n",
    "Integers range from $ -2^{31} $ to $ 2^{31}-1 $"
   ]
  },
  {
   "cell_type": "code",
   "execution_count": null,
   "metadata": {
    "collapsed": false
   },
   "outputs": [],
   "source": [
    "stock_price = 1\n",
    "type(stock_price)"
   ]
  },
  {
   "cell_type": "code",
   "execution_count": null,
   "metadata": {
    "collapsed": false
   },
   "outputs": [],
   "source": [
    "stock_price = 1.0\n",
    "type(stock_price)"
   ]
  },
  {
   "cell_type": "code",
   "execution_count": null,
   "metadata": {
    "collapsed": false
   },
   "outputs": [],
   "source": [
    "stock_price = int(stock_price)\n",
    "type(stock_price)"
   ]
  },
  {
   "cell_type": "code",
   "execution_count": null,
   "metadata": {
    "collapsed": false
   },
   "outputs": [],
   "source": [
    "stock_price = long(1)\n",
    "type(stock_price)"
   ]
  },
  {
   "cell_type": "code",
   "execution_count": null,
   "metadata": {
    "collapsed": false
   },
   "outputs": [],
   "source": [
    "number_of_hours = 2\n",
    "Time_taken = number_of_hours ** 128 # ** denotes exponential\n",
    "Time_taken"
   ]
  },
  {
   "cell_type": "markdown",
   "metadata": {},
   "source": [
    "## Boolean (bool)\n",
    "The Boolean data type is used to represent `true` and `false`."
   ]
  },
  {
   "cell_type": "code",
   "execution_count": null,
   "metadata": {
    "collapsed": false
   },
   "outputs": [],
   "source": [
    "rain_today = True\n",
    "type(rain_today)"
   ]
  },
  {
   "cell_type": "code",
   "execution_count": null,
   "metadata": {
    "collapsed": false
   },
   "outputs": [],
   "source": [
    "rain_today = bool(1)\n",
    "rain_today"
   ]
  },
  {
   "cell_type": "code",
   "execution_count": null,
   "metadata": {
    "collapsed": false
   },
   "outputs": [],
   "source": [
    "rain_today = bool(0)\n",
    "rain_today"
   ]
  },
  {
   "cell_type": "code",
   "execution_count": null,
   "metadata": {
    "collapsed": false
   },
   "outputs": [],
   "source": [
    "print bool('zen')\n",
    "print bool(0)\n",
    "print bool('')\n",
    "print bool({})"
   ]
  },
  {
   "cell_type": "markdown",
   "metadata": {},
   "source": [
    "## Strings (str)"
   ]
  },
  {
   "cell_type": "code",
   "execution_count": null,
   "metadata": {
    "collapsed": false
   },
   "outputs": [],
   "source": [
    "news = 'abc'\n",
    "type(news)"
   ]
  },
  {
   "cell_type": "markdown",
   "metadata": {},
   "source": [
    "### Slicing Strings"
   ]
  },
  {
   "cell_type": "code",
   "execution_count": null,
   "metadata": {
    "collapsed": true
   },
   "outputs": [],
   "source": [
    "news = 'IBM reported a drop in revenue last quarter. The revenue released was $2.95 per share'"
   ]
  },
  {
   "cell_type": "code",
   "execution_count": null,
   "metadata": {
    "collapsed": false
   },
   "outputs": [],
   "source": [
    "print news[0]\n",
    "print news[-1]\n",
    "print news[5:10]\n",
    "print len(news)\n",
    "print news[:10]\n",
    "print news[11:]"
   ]
  },
  {
   "cell_type": "markdown",
   "metadata": {},
   "source": [
    "### Exercise: \n",
    "Test the dot notation. Try out the following:\n",
    "* split\n",
    "* strip\n",
    "* count\n",
    "* upper\n",
    "* lower"
   ]
  },
  {
   "cell_type": "code",
   "execution_count": null,
   "metadata": {
    "collapsed": false
   },
   "outputs": [],
   "source": [
    "news.split(' ')[0:3]"
   ]
  },
  {
   "cell_type": "code",
   "execution_count": null,
   "metadata": {
    "collapsed": false
   },
   "outputs": [],
   "source": [
    "news[70:75]"
   ]
  },
  {
   "cell_type": "code",
   "execution_count": null,
   "metadata": {
    "collapsed": false
   },
   "outputs": [],
   "source": [
    "news[70:75].strip(\"$\")"
   ]
  },
  {
   "cell_type": "code",
   "execution_count": null,
   "metadata": {
    "collapsed": false
   },
   "outputs": [],
   "source": [
    "news[75:80]"
   ]
  },
  {
   "cell_type": "code",
   "execution_count": null,
   "metadata": {
    "collapsed": false
   },
   "outputs": [],
   "source": [
    "news[75:80].strip(\" \")"
   ]
  },
  {
   "cell_type": "code",
   "execution_count": null,
   "metadata": {
    "collapsed": false
   },
   "outputs": [],
   "source": [
    "news.count('a')"
   ]
  },
  {
   "cell_type": "markdown",
   "metadata": {},
   "source": [
    "## Lists (list)\n",
    "A list is a collection of objectives. Like string, lists can be *sliced*. "
   ]
  },
  {
   "cell_type": "code",
   "execution_count": null,
   "metadata": {
    "collapsed": false
   },
   "outputs": [],
   "source": [
    "data_list = []\n",
    "type(data_list)"
   ]
  },
  {
   "cell_type": "code",
   "execution_count": null,
   "metadata": {
    "collapsed": false
   },
   "outputs": [],
   "source": [
    "data_list = [21.2, 24, 33.6, 64.0]\n",
    "data_list"
   ]
  },
  {
   "cell_type": "code",
   "execution_count": null,
   "metadata": {
    "collapsed": false
   },
   "outputs": [],
   "source": [
    "data_list = [[21.2, 24, 33.6, 64.0],[0.71796434,  0.59814004,  0.68296814]]\n",
    "data_list"
   ]
  },
  {
   "cell_type": "code",
   "execution_count": null,
   "metadata": {
    "collapsed": false
   },
   "outputs": [],
   "source": [
    "data_list = [[1.5, 76, 13.05],['Mr. Brown','Mr. Lee']] # mixed data types\n",
    "data_list"
   ]
  },
  {
   "cell_type": "markdown",
   "metadata": {},
   "source": [
    "### range vs xrange\n",
    "\n",
    "Range and xrange are both easy ways to create a list. The difference between the two functions:\n",
    "\n",
    "xrange is very similar to range(), but returns an xrange object instead of a list. This is an opaque sequence type which yields the same values as the corresponding list, without actually storing them all simultaneously. Useful when memory is a problem."
   ]
  },
  {
   "cell_type": "code",
   "execution_count": null,
   "metadata": {
    "collapsed": false
   },
   "outputs": [],
   "source": [
    "range(10)"
   ]
  },
  {
   "cell_type": "code",
   "execution_count": null,
   "metadata": {
    "collapsed": false
   },
   "outputs": [],
   "source": [
    "xrange(10)            # notice it returns an xrange object"
   ]
  },
  {
   "cell_type": "code",
   "execution_count": null,
   "metadata": {
    "collapsed": false
   },
   "outputs": [],
   "source": [
    "for o in xrange(5):  # notice is unpacks when needed\n",
    "    print o"
   ]
  },
  {
   "cell_type": "markdown",
   "metadata": {
    "collapsed": true
   },
   "source": [
    "### Slicing"
   ]
  },
  {
   "cell_type": "code",
   "execution_count": null,
   "metadata": {
    "collapsed": false
   },
   "outputs": [],
   "source": [
    "selected_list = [10, 20, 30, 40, 50, 60, 70, 80]\n",
    "selected_list"
   ]
  },
  {
   "cell_type": "code",
   "execution_count": null,
   "metadata": {
    "collapsed": false
   },
   "outputs": [],
   "source": [
    "print selected_list[0]\n",
    "print selected_list[-1]\n",
    "print selected_list[0:8:2]          # Starts at 0, ends at 7. Every 2nd element\n",
    "print selected_list[::3]            # Give me every third element of a list\n",
    "print selected_list[::-1]           # Reverse list"
   ]
  },
  {
   "cell_type": "code",
   "execution_count": null,
   "metadata": {
    "collapsed": false
   },
   "outputs": [],
   "source": [
    "#selected_list[20]"
   ]
  },
  {
   "cell_type": "code",
   "execution_count": null,
   "metadata": {
    "collapsed": false
   },
   "outputs": [],
   "source": [
    "data_list = [[1.5, 76, 13.05],['Mr. Brown','Mr. Lee']]\n",
    "print data_list[0]\n",
    "print data_list[1][1]\n",
    "print data_list[0][1:3]\n",
    "print data_list"
   ]
  },
  {
   "cell_type": "code",
   "execution_count": null,
   "metadata": {
    "collapsed": false
   },
   "outputs": [],
   "source": [
    "data_list.append([0.38138677,  0.15538644,  0.33813792,  0.41292643,  0.12815118]) \n",
    "# appends value to the list\n",
    "data_list"
   ]
  },
  {
   "cell_type": "code",
   "execution_count": null,
   "metadata": {
    "collapsed": false
   },
   "outputs": [],
   "source": [
    "len(data_list)                  # length of the list"
   ]
  },
  {
   "cell_type": "code",
   "execution_count": null,
   "metadata": {
    "collapsed": false
   },
   "outputs": [],
   "source": [
    "data_list.extend(selected_list) # append selected_list to data_list\n",
    "data_list"
   ]
  },
  {
   "cell_type": "code",
   "execution_count": null,
   "metadata": {
    "collapsed": false
   },
   "outputs": [],
   "source": [
    "data_list.pop(-1)               # removes last item"
   ]
  },
  {
   "cell_type": "code",
   "execution_count": null,
   "metadata": {
    "collapsed": false
   },
   "outputs": [],
   "source": [
    "data_list"
   ]
  },
  {
   "cell_type": "code",
   "execution_count": null,
   "metadata": {
    "collapsed": false
   },
   "outputs": [],
   "source": [
    "data_list.remove(10)            # removes the value 10 from the list\n",
    "data_list"
   ]
  },
  {
   "cell_type": "markdown",
   "metadata": {},
   "source": [
    "### List, Set and Dict Comprehension\n",
    "\n",
    "List comprehensions provide a concise way to create lists. Say we have an existing list, and we would like to extract certain information which satisfy some specific condition, list, set and dict comprehension is the way to do it."
   ]
  },
  {
   "cell_type": "code",
   "execution_count": null,
   "metadata": {
    "collapsed": false
   },
   "outputs": [],
   "source": [
    "# For example, assume we want to create a list of squares, like:\n",
    "squares = []\n",
    "for x in range(10):\n",
    "        squares.append(x**2)\n",
    "squares        "
   ]
  },
  {
   "cell_type": "code",
   "execution_count": null,
   "metadata": {
    "collapsed": true
   },
   "outputs": [],
   "source": [
    "# We can obtain the same result with:\n",
    "squares = [x ** 2 for x in range(10)]"
   ]
  },
  {
   "cell_type": "markdown",
   "metadata": {},
   "source": [
    "A list comprehension consists of brackets containing an expression followed by a `for` clause, then zero or more `for` or `if` clauses. The result will be a new list resulting from evaluating the expression in the context of the `for` and `if` clauses which follow it."
   ]
  },
  {
   "cell_type": "markdown",
   "metadata": {},
   "source": [
    "## Tuples\n",
    "\n",
    "like list except the value cannot be changed (It is immutable)"
   ]
  },
  {
   "cell_type": "code",
   "execution_count": null,
   "metadata": {
    "collapsed": false
   },
   "outputs": [],
   "source": [
    "tuple_data = (2, 4, 6, 8, 10)\n",
    "print type(tuple_data)\n",
    "print tuple_data[1]\n",
    "print tuple_data[3:4]"
   ]
  },
  {
   "cell_type": "code",
   "execution_count": null,
   "metadata": {
    "collapsed": false
   },
   "outputs": [],
   "source": [
    "#tuple_data[1] = 99"
   ]
  },
  {
   "cell_type": "markdown",
   "metadata": {},
   "source": [
    "## Dictionary (dict)"
   ]
  },
  {
   "cell_type": "code",
   "execution_count": null,
   "metadata": {
    "collapsed": false
   },
   "outputs": [],
   "source": [
    "Stock_list = {'Company' : ['EZRA', 'ThaiBev'], 'Price': [0.1040, 0.75]}\n",
    "print type(Stock_list)\n",
    "print Stock_list"
   ]
  },
  {
   "cell_type": "code",
   "execution_count": null,
   "metadata": {
    "collapsed": false
   },
   "outputs": [],
   "source": [
    "Stock_list['Volume'] = [80055300, 27055500]\n",
    "Stock_list"
   ]
  },
  {
   "cell_type": "code",
   "execution_count": null,
   "metadata": {
    "collapsed": false
   },
   "outputs": [],
   "source": [
    "del Stock_list['Price']\n",
    "Stock_list"
   ]
  },
  {
   "cell_type": "markdown",
   "metadata": {},
   "source": [
    "## Dates and times"
   ]
  },
  {
   "cell_type": "code",
   "execution_count": null,
   "metadata": {
    "collapsed": false
   },
   "outputs": [],
   "source": [
    "from datetime import datetime, date, time"
   ]
  },
  {
   "cell_type": "code",
   "execution_count": null,
   "metadata": {
    "collapsed": true
   },
   "outputs": [],
   "source": [
    "tell_time = datetime(2006, 06, 02, 07, 30, 10)"
   ]
  },
  {
   "cell_type": "code",
   "execution_count": null,
   "metadata": {
    "collapsed": false
   },
   "outputs": [],
   "source": [
    "tell_time.day"
   ]
  },
  {
   "cell_type": "code",
   "execution_count": null,
   "metadata": {
    "collapsed": false
   },
   "outputs": [],
   "source": [
    "tell_time.hour"
   ]
  },
  {
   "cell_type": "code",
   "execution_count": null,
   "metadata": {
    "collapsed": false
   },
   "outputs": [],
   "source": [
    "tell_time.date()"
   ]
  },
  {
   "cell_type": "code",
   "execution_count": null,
   "metadata": {
    "collapsed": false
   },
   "outputs": [],
   "source": [
    "tell_time.time()"
   ]
  },
  {
   "cell_type": "code",
   "execution_count": null,
   "metadata": {
    "collapsed": false
   },
   "outputs": [],
   "source": [
    "tell_time.strftime(\"%Y/%d/%m %H:%M\")"
   ]
  },
  {
   "cell_type": "code",
   "execution_count": null,
   "metadata": {
    "collapsed": false
   },
   "outputs": [],
   "source": [
    "datetime.strptime('20001218', '%Y%m%d')"
   ]
  },
  {
   "cell_type": "code",
   "execution_count": null,
   "metadata": {
    "collapsed": false
   },
   "outputs": [],
   "source": [
    "tell_time.replace(minute=10, second=30)"
   ]
  },
  {
   "cell_type": "code",
   "execution_count": null,
   "metadata": {
    "collapsed": true
   },
   "outputs": [],
   "source": [
    "tell_time2 = datetime(2000, 12, 18, 5, 30, 20)"
   ]
  },
  {
   "cell_type": "code",
   "execution_count": null,
   "metadata": {
    "collapsed": true
   },
   "outputs": [],
   "source": [
    "diff = tell_time2 - tell_time"
   ]
  },
  {
   "cell_type": "code",
   "execution_count": null,
   "metadata": {
    "collapsed": false
   },
   "outputs": [],
   "source": [
    "diff"
   ]
  },
  {
   "cell_type": "code",
   "execution_count": null,
   "metadata": {
    "collapsed": false
   },
   "outputs": [],
   "source": [
    "type(diff)"
   ]
  },
  {
   "cell_type": "markdown",
   "metadata": {},
   "source": [
    "## Sets"
   ]
  },
  {
   "cell_type": "code",
   "execution_count": null,
   "metadata": {
    "collapsed": false
   },
   "outputs": [],
   "source": [
    "first_list = {4, 7, 3, 7, 7, 2, 2, 4, 1, 7}\n",
    "second_list = {7, 4, 8, 4, 1, 6, 5, 7, 8, 6}"
   ]
  },
  {
   "cell_type": "code",
   "execution_count": null,
   "metadata": {
    "collapsed": false
   },
   "outputs": [],
   "source": [
    "set(first_list)"
   ]
  },
  {
   "cell_type": "code",
   "execution_count": null,
   "metadata": {
    "collapsed": false
   },
   "outputs": [],
   "source": [
    "first_list | second_list                  # union / or"
   ]
  },
  {
   "cell_type": "code",
   "execution_count": null,
   "metadata": {
    "collapsed": false
   },
   "outputs": [],
   "source": [
    "first_list.union(second_list)"
   ]
  },
  {
   "cell_type": "code",
   "execution_count": null,
   "metadata": {
    "collapsed": false
   },
   "outputs": [],
   "source": [
    "first_list & second_list                  # intersection / and"
   ]
  },
  {
   "cell_type": "code",
   "execution_count": null,
   "metadata": {
    "collapsed": false
   },
   "outputs": [],
   "source": [
    "first_list.intersection(second_list)"
   ]
  },
  {
   "cell_type": "code",
   "execution_count": null,
   "metadata": {
    "collapsed": false
   },
   "outputs": [],
   "source": [
    "first_list - second_list                  # difference"
   ]
  },
  {
   "cell_type": "code",
   "execution_count": null,
   "metadata": {
    "collapsed": false
   },
   "outputs": [],
   "source": [
    "first_list ^ second_list                  # symmetric difference / xor"
   ]
  },
  {
   "cell_type": "markdown",
   "metadata": {},
   "source": [
    "# Basic Introduction to Object Oriented Programming (OOP)\n",
    "\n",
    "More can be found in python [documentation](https://docs.python.org/3/tutorial/classes.html)\n",
    "\n",
    "Let's use the following example to highlight some of the key words in OOP\n",
    "\n",
    "`Objects: American Foxhound, ..`\n",
    "\n",
    "`Class: Dog()`\n",
    "\n",
    "`Methods: add_trick`"
   ]
  },
  {
   "cell_type": "code",
   "execution_count": null,
   "metadata": {
    "collapsed": true
   },
   "outputs": [],
   "source": [
    "class Dog(object):\n",
    "    '''A simple dog class example'''\n",
    "    kind = 'canine'           # class variable shared by all instances\n",
    "\n",
    "    def __init__(self, name): # constructor. implicit called when instantiated.\n",
    "        self.name = name\n",
    "        self.tricks = []      # creates a new empty list for each dog\n",
    "\n",
    "    def add_trick(self, trick):\n",
    "        self.tricks.append(trick)"
   ]
  },
  {
   "cell_type": "code",
   "execution_count": null,
   "metadata": {
    "collapsed": true
   },
   "outputs": [],
   "source": [
    "d = Dog('American Foxhound')"
   ]
  },
  {
   "cell_type": "markdown",
   "metadata": {},
   "source": [
    "To invoke the functions / methods within a class, you use the `dot notation`:"
   ]
  },
  {
   "cell_type": "code",
   "execution_count": null,
   "metadata": {
    "collapsed": false
   },
   "outputs": [],
   "source": [
    "d.name"
   ]
  },
  {
   "cell_type": "code",
   "execution_count": null,
   "metadata": {
    "collapsed": false
   },
   "outputs": [],
   "source": [
    "d.kind"
   ]
  },
  {
   "cell_type": "code",
   "execution_count": null,
   "metadata": {
    "collapsed": true
   },
   "outputs": [],
   "source": [
    "d.add_trick('jump')"
   ]
  },
  {
   "cell_type": "code",
   "execution_count": null,
   "metadata": {
    "collapsed": false
   },
   "outputs": [],
   "source": [
    "d.tricks"
   ]
  },
  {
   "cell_type": "code",
   "execution_count": null,
   "metadata": {
    "collapsed": false
   },
   "outputs": [],
   "source": [
    "d.__doc__"
   ]
  },
  {
   "cell_type": "markdown",
   "metadata": {},
   "source": [
    "A class definition starts with the keyword **`class`**\n",
    "\n",
    "**`methods`** are functions defined within a class.\n",
    "\n",
    "Class by itself does not create any **objects** / instances of the class. To create an object / instance of a dog, as the example showed, you need to invoke (call upon) the class name as you do with a normal function. You can have multiple instances of the same class.\n",
    "\n",
    "Class Definition Syntax\n",
    "\n",
    "`class ClassName`:\n",
    "\n",
    "`< statement-1 >`\n",
    "\n",
    "...\n",
    "\n",
    "\n",
    "`< statement-N >`\n",
    "\n",
    "Class objects support two kinds of operations: `attribute references` and `instantiation`.\n",
    "\n",
    "`Attribute references` use the standard syntax used for all attribute references in Python: `obj.name`. Valid attribute names are all the names that were in the class’s namespace when the class object was created. \n",
    "\n",
    "Example below are from Python [online reference](https://docs.python.org/3/tutorial/classes.html)"
   ]
  },
  {
   "cell_type": "code",
   "execution_count": null,
   "metadata": {
    "collapsed": true
   },
   "outputs": [],
   "source": [
    "class MyClass:\n",
    "    \"\"\"A simple example class\"\"\"\n",
    "    i = 12345\n",
    "    def f(self):\n",
    "        return 'hello world'"
   ]
  },
  {
   "cell_type": "markdown",
   "metadata": {},
   "source": [
    "`MyClass.i` and `MyClass.f` are valid attribute references, returning an integer and a function object, respectively. "
   ]
  },
  {
   "cell_type": "markdown",
   "metadata": {},
   "source": [
    "Class attributes can also be assigned to, so you can change the value of `MyClass.i` by assignment. \n",
    "\n",
    "`__doc__` is also a valid attribute, returning the docstring belonging to the class: `\"A simple example class\"`."
   ]
  },
  {
   "cell_type": "markdown",
   "metadata": {},
   "source": [
    "Class *instantiation* uses function notation. Just pretend that the class object is a parameterless function that returns a new instance of the class. For example (assuming the above class):"
   ]
  },
  {
   "cell_type": "code",
   "execution_count": null,
   "metadata": {
    "collapsed": true
   },
   "outputs": [],
   "source": [
    "x = MyClass()"
   ]
  },
  {
   "cell_type": "markdown",
   "metadata": {},
   "source": [
    "creates a new **instance** of the class and assigns this object to the local variable `x`.\n",
    "\n",
    "The instantiation operation (“calling” a class object) creates an empty object. Many classes like to create objects with instances customized to a specific initial state. Therefore a class may define a special method named `__init__()`, like this:"
   ]
  },
  {
   "cell_type": "code",
   "execution_count": null,
   "metadata": {
    "collapsed": true
   },
   "outputs": [],
   "source": [
    "def __init__(self):\n",
    "    self.data = []"
   ]
  },
  {
   "cell_type": "markdown",
   "metadata": {},
   "source": [
    "When a class defines an `__init__()` method, class instantiation automatically invokes `__init__()` for the newly-created class instance. So in this example, a new, initialized instance can be obtained by:"
   ]
  },
  {
   "cell_type": "code",
   "execution_count": null,
   "metadata": {
    "collapsed": true
   },
   "outputs": [],
   "source": [
    "x = MyClass()"
   ]
  },
  {
   "cell_type": "markdown",
   "metadata": {},
   "source": [
    "Of course, the `__init__()` method may have arguments for greater flexibility. In that case, arguments given to the class instantiation operator are passed on to `__init__()`. For example,"
   ]
  },
  {
   "cell_type": "code",
   "execution_count": null,
   "metadata": {
    "collapsed": true
   },
   "outputs": [],
   "source": [
    "class Complex:\n",
    "    def __init__(self, realpart, imagpart):\n",
    "        self.r = realpart\n",
    "        self.i = imagpart"
   ]
  },
  {
   "cell_type": "code",
   "execution_count": null,
   "metadata": {
    "collapsed": true
   },
   "outputs": [],
   "source": [
    "x = Complex(3.0, -4.5)"
   ]
  },
  {
   "cell_type": "code",
   "execution_count": null,
   "metadata": {
    "collapsed": false
   },
   "outputs": [],
   "source": [
    "x.r, x.i"
   ]
  },
  {
   "cell_type": "markdown",
   "metadata": {},
   "source": [
    "# Basic Introduction to Function\n",
    "\n",
    "Purpose of writing function:\n",
    "\n",
    "* How do you eat an elephant? One bite at a time. The idea is to break down large problem into smaller manageable steps.\n",
    "\n",
    "* Reuse code. Think `np.mean()`\n",
    "\n",
    "* Keep our variable namespace clean\n",
    "\n",
    "* Allow us to test small parts of our program in isolation from the rest. "
   ]
  },
  {
   "cell_type": "code",
   "execution_count": null,
   "metadata": {
    "collapsed": true
   },
   "outputs": [],
   "source": [
    "def fv(pv, int, period):\n",
    "    period = 1\n",
    "    return pv * (1 + int) ** period"
   ]
  },
  {
   "cell_type": "code",
   "execution_count": null,
   "metadata": {
    "collapsed": false
   },
   "outputs": [],
   "source": [
    "fv(1000, 0.02, period = 1)"
   ]
  },
  {
   "cell_type": "code",
   "execution_count": null,
   "metadata": {
    "collapsed": false
   },
   "outputs": [],
   "source": [
    "fv(1000, 0.02, period = 3)"
   ]
  },
  {
   "cell_type": "markdown",
   "metadata": {},
   "source": [
    "## Name scopes.\n",
    "\n",
    "Notice in the examples above, the answers are the same despite the fact that the second example has period = 3. The reason being, we have predefined within the function period = 1 (Not a very good example but it gets the point across). The value of period only exist within the function. Once we exited the function, it no long exist. Note the example:"
   ]
  },
  {
   "cell_type": "code",
   "execution_count": null,
   "metadata": {
    "collapsed": false
   },
   "outputs": [],
   "source": [
    "period"
   ]
  },
  {
   "cell_type": "markdown",
   "metadata": {},
   "source": [
    "# Where to From Here\n",
    "\n",
    "The internet is loaded with free and open source materials and guides on Python. Just Google your query. In fact, a lot of lectures / professors / practitioners post guides, references and even codes for free. Here are some of them:\n",
    "\n",
    "### Free Resources\n",
    "\n",
    "1. Kevin Sheppard's online text **[Introduction to Python for Econometrics, Statistics and Data Analysis](https://www.kevinsheppard.com/images/0/09/Python_introduction.pdf)** as a reference. \n",
    "\n",
    "2. Charles Severance's text **[Python for Informatics](https://www.coursera.org/learn/python/supplement/AtKA1/textbook-python-for-informatics-exploring-information)** on coursera. \n",
    "\n",
    "### Not Free but Excellent Resources\n",
    "\n",
    "3. Mart Lutz's **[Learning Python](http://shop.oreilly.com/product/0636920028154.do)\n",
    "\n",
    "4. Wes McKinney's **[Python for Data Analysis](http://shop.oreilly.com/product/0636920023784.do)"
   ]
  },
  {
   "cell_type": "markdown",
   "metadata": {},
   "source": [
    "**End of Lesson**"
   ]
  },
  {
   "cell_type": "markdown",
   "metadata": {},
   "source": [
    "## Exercise\n",
    "\n",
    "\n",
    "1. Enter the following into Python, assigning each to a unique variable name:\n",
    "    * 9\n",
    "    * 3.1415\n",
    "    * 3.0\n",
    "    * 3.0+4j\n",
    "    * 'John'\n",
    "    * 'World'\n",
    "2. What is the type of each variable? Use type if you aren’t sure.\n",
    "3. Which of the 6 types can be:\n",
    "    * Add +\n",
    "    * Subtract -\n",
    "    * Multiplied * \n",
    "    * Divided /\n",
    "4. Input the variable ex = \"Japan's benchmark Topix index slumped 4.6 percent\". Using slicing, extract:\n",
    "    * Japan\n",
    "    * '\n",
    "    * 4.6 percent\n",
    "    * ma\n",
    "    \n",
    "    Note: There are multiple answers for all.\n",
    "    * tnecrep 6.4 depmuls xedni xipoT kramhcneb s'napaJ (Reversed)\n",
    "    * 6.4"
   ]
  }
 ],
 "metadata": {
  "kernelspec": {
   "display_name": "Python 2",
   "language": "python",
   "name": "python2"
  },
  "language_info": {
   "codemirror_mode": {
    "name": "ipython",
    "version": 2
   },
   "file_extension": ".py",
   "mimetype": "text/x-python",
   "name": "python",
   "nbconvert_exporter": "python",
   "pygments_lexer": "ipython2",
   "version": "2.7.12"
  }
 },
 "nbformat": 4,
 "nbformat_minor": 0
}
